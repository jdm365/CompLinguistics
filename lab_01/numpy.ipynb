{
 "cells": [
  {
   "cell_type": "markdown",
   "metadata": {
    "id": "YcamOKuntEJW"
   },
   "source": [
    "## NumPy\n",
    "\n",
    "`NumPy` is used to manipulate vector and matrix data structures.\n",
    "\n",
    "The basic object in `NumPy` is its multidimensional array (its n-dimensional `ndarray`). So, it's important to understand how to work with these objects, perform basic operations, and  apply them to real data.\n",
    "\n",
    "Across Python's data science toolkit, the n-dimensional array is a crucial building block. For instance, many other relevant libraries are built on top of `NumPy`. An important theme is that what could be done using `for` loops (e.g., matrix products) is more aptly computed using matrix computations. `NumPy` is designed using fast C code, so you should become comfortable with thinking in terms of vectors and matrices when working in machine learning. Often, it is helpful to reason about computations starting with expressions in their indexed forms and then move to the vectorized variation. In other words, a matrix product may be better understood by first reasoning about how individual computations in the product are computed. Matrix products are relevant in machine learning because they represent transformations of data. We will talk more about this later on. For now, our focus is on gaining experience with `NumPy`.\n",
    "\n",
    "Please see the guides available at [numpy.org](https://numpy.org) for more information."
   ]
  },
  {
   "cell_type": "code",
   "execution_count": 1,
   "metadata": {
    "id": "Bru4FNSjs96O"
   },
   "outputs": [],
   "source": [
    "import numpy as np"
   ]
  },
  {
   "cell_type": "markdown",
   "metadata": {
    "id": "yTGNtCNZUjo8"
   },
   "source": [
    "One of the most important concepts in working with `NumPy` is the idea of shape. When we create an array (representing a scalar (0-dimensional), vector (1-dimensional), matrix (2-dimensional), or tensor (n-dimensional)), that array has a shape or dimensionality. In `NumyPy`, dimensions are also called axes.\n",
    "\n",
    "You can create an array in various ways. For instance, the `array` function can take a Python list and convert it into an `ndarray`. "
   ]
  },
  {
   "cell_type": "code",
   "execution_count": 2,
   "metadata": {
    "id": "DUOP2nmWEqIY"
   },
   "outputs": [
    {
     "name": "stdout",
     "output_type": "stream",
     "text": [
      "(4,) (2, 4) (3, 4)\n",
      "int64\n",
      "float64\n"
     ]
    }
   ],
   "source": [
    "a = np.array([1, 2, 3, 4]) # a 1-dimensional array\n",
    "b = np.array([[1.0, 2, 3, 4], [5, 6, 7, 8]]) # a 2-dimensional array\n",
    "c = np.array([[1, 2, 3, 4], [5, 6, 7, 8], [9, 10, 11, 12]]) # a 2-dimensional array\n",
    "print(a.shape, b.shape, c.shape)\n",
    "\n",
    "print(a.dtype) # integer\n",
    "print(b.dtype) # float"
   ]
  },
  {
   "cell_type": "markdown",
   "metadata": {
    "id": "IkCW_phpHAPM"
   },
   "source": [
    "Indexing operations behave as expected:"
   ]
  },
  {
   "cell_type": "code",
   "execution_count": 3,
   "metadata": {
    "id": "XN3TgJSLFHG2"
   },
   "outputs": [
    {
     "name": "stdout",
     "output_type": "stream",
     "text": [
      "1.0\n",
      "8.0\n",
      "[[ 1.  2.  3.  4.]\n",
      " [ 5. 10.  7.  8.]]\n",
      "[ 2. 10.]\n",
      "[ 5. 10.  7.  8.]\n"
     ]
    }
   ],
   "source": [
    "print(b[0, 0]) # fetch the value at the 0th position of the 1st axis and the 0th position of the 2nd axis\n",
    "print(b[-1, -1]) # fetch the value at the last position of the 1st axis and the last position of the 2nd axis\n",
    "\n",
    "# note the 0-up indexing while we 1-up count the axes\n",
    "\n",
    "b[1,1] = 10 # updates array value; set the value at index [1,1] to 1\n",
    "print(b)\n",
    "\n",
    "print(b[:, 1]) # fetch all the values along the 1st position in the 2nd axis (i.e., the second column of the matrix)\n",
    "\n",
    "print(b[-1]) # equivalent to b[-1, :] and b[-1, ...] i.e. the last row"
   ]
  },
  {
   "cell_type": "markdown",
   "metadata": {
    "id": "Q5awgKKSHILy"
   },
   "source": [
    "Here is a brief survey of some other common functionalities:"
   ]
  },
  {
   "cell_type": "code",
   "execution_count": 4,
   "metadata": {
    "id": "PxEX-GqaLbwQ"
   },
   "outputs": [
    {
     "name": "stdout",
     "output_type": "stream",
     "text": [
      "[0 1 2 3 4 5 6 7 8 9]\n"
     ]
    }
   ],
   "source": [
    "a = np.arange(10) # an array of 10 integers, 0-9 (analogous to Python's range)\n",
    "print(a)"
   ]
  },
  {
   "cell_type": "code",
   "execution_count": 5,
   "metadata": {
    "id": "Q6o8JsnfLvsn"
   },
   "outputs": [
    {
     "name": "stdout",
     "output_type": "stream",
     "text": [
      "[[0 1 2 3 4]\n",
      " [5 6 7 8 9]]\n",
      "[0 1 2 3 4 5 6 7 8 9]\n"
     ]
    }
   ],
   "source": [
    "print(a.reshape(2, 5)) # reshape array\n",
    "print(a) # original array"
   ]
  },
  {
   "cell_type": "code",
   "execution_count": 6,
   "metadata": {
    "id": "49e-8DfZLxvk"
   },
   "outputs": [
    {
     "name": "stdout",
     "output_type": "stream",
     "text": [
      "1\n"
     ]
    }
   ],
   "source": [
    "print(a.ndim) # 2 axes"
   ]
  },
  {
   "cell_type": "code",
   "execution_count": 7,
   "metadata": {
    "id": "XULQ6yCULzX2"
   },
   "outputs": [
    {
     "name": "stdout",
     "output_type": "stream",
     "text": [
      "[[0. 0. 0.]\n",
      " [0. 0. 0.]]\n",
      "[[1. 1. 1.]\n",
      " [1. 1. 1.]]\n"
     ]
    }
   ],
   "source": [
    "print(np.zeros((2, 3))) # an array of all 0s\n",
    "print(np.ones((2, 3))) # an array of all 1s"
   ]
  },
  {
   "cell_type": "code",
   "execution_count": 11,
   "metadata": {
    "id": "PwYNMfKkL03y"
   },
   "outputs": [
    {
     "name": "stdout",
     "output_type": "stream",
     "text": [
      "[[ 1.02662867  0.58834094 -0.78392774 -0.07705042]\n",
      " [-1.62968761  0.64485331  0.09004603 -0.67053461]\n",
      " [ 0.78477075  0.24791341  0.42043422 -0.45950193]]\n"
     ]
    }
   ],
   "source": [
    "print(np.random.randn(3, 4)) # random module provides functions to create ndarrays with random values"
   ]
  },
  {
   "cell_type": "code",
   "execution_count": 12,
   "metadata": {
    "id": "ZA6jyj88L2LR"
   },
   "outputs": [
    {
     "name": "stdout",
     "output_type": "stream",
     "text": [
      "[0.         0.01010101 0.02020202 0.03030303 0.04040404 0.05050505\n",
      " 0.06060606 0.07070707 0.08080808 0.09090909 0.1010101  0.11111111\n",
      " 0.12121212 0.13131313 0.14141414 0.15151515 0.16161616 0.17171717\n",
      " 0.18181818 0.19191919 0.2020202  0.21212121 0.22222222 0.23232323\n",
      " 0.24242424 0.25252525 0.26262626 0.27272727 0.28282828 0.29292929\n",
      " 0.3030303  0.31313131 0.32323232 0.33333333 0.34343434 0.35353535\n",
      " 0.36363636 0.37373737 0.38383838 0.39393939 0.4040404  0.41414141\n",
      " 0.42424242 0.43434343 0.44444444 0.45454545 0.46464646 0.47474747\n",
      " 0.48484848 0.49494949 0.50505051 0.51515152 0.52525253 0.53535354\n",
      " 0.54545455 0.55555556 0.56565657 0.57575758 0.58585859 0.5959596\n",
      " 0.60606061 0.61616162 0.62626263 0.63636364 0.64646465 0.65656566\n",
      " 0.66666667 0.67676768 0.68686869 0.6969697  0.70707071 0.71717172\n",
      " 0.72727273 0.73737374 0.74747475 0.75757576 0.76767677 0.77777778\n",
      " 0.78787879 0.7979798  0.80808081 0.81818182 0.82828283 0.83838384\n",
      " 0.84848485 0.85858586 0.86868687 0.87878788 0.88888889 0.8989899\n",
      " 0.90909091 0.91919192 0.92929293 0.93939394 0.94949495 0.95959596\n",
      " 0.96969697 0.97979798 0.98989899 1.        ]\n"
     ]
    }
   ],
   "source": [
    "print(np.linspace(0, 1, 100)) # an array with 100 evenly-spaced numbers, from 0 to 1"
   ]
  },
  {
   "cell_type": "code",
   "execution_count": 13,
   "metadata": {
    "id": "1OAsGT-LL3hD"
   },
   "outputs": [],
   "source": [
    "A = np.array([[1, 1], [0, 1]])\n",
    "B = np.array([[2, 0], [3,4]])"
   ]
  },
  {
   "cell_type": "code",
   "execution_count": 14,
   "metadata": {
    "id": "FIQOCGD-L4xB"
   },
   "outputs": [
    {
     "name": "stdout",
     "output_type": "stream",
     "text": [
      "[[1 1]\n",
      " [0 1]]\n",
      "[[2 0]\n",
      " [0 4]]\n",
      "[[5 4]\n",
      " [3 4]]\n",
      "[[5 4]\n",
      " [3 4]]\n"
     ]
    }
   ],
   "source": [
    "print(A)\n",
    "print(A*B) # Hadamard/element-wise product\n",
    "\n",
    "print(A@B) # matrix product\n",
    "print(A.dot(B)) # matrix product"
   ]
  },
  {
   "cell_type": "code",
   "execution_count": 15,
   "metadata": {
    "id": "EhKhtbVZL6HB"
   },
   "outputs": [
    {
     "name": "stdout",
     "output_type": "stream",
     "text": [
      "3\n",
      "0\n",
      "1\n"
     ]
    }
   ],
   "source": [
    "print(A.sum()) # sum over all elements\n",
    "print(A.min()) # min over all elements\n",
    "print(A.max()) # max over all elements"
   ]
  },
  {
   "cell_type": "code",
   "execution_count": 16,
   "metadata": {
    "id": "gU6yL1paL7W0"
   },
   "outputs": [
    {
     "name": "stdout",
     "output_type": "stream",
     "text": [
      "apply operation across the row direction [1 2]\n",
      "apply the operation across the column direction [2 1]\n"
     ]
    }
   ],
   "source": [
    "print(\"apply operation across the row direction\", A.sum(axis=0)) # sum of each column, i.e. operation applied across the direction along the rows\n",
    "\n",
    "print(\"apply the operation across the column direction\", A.sum(axis=1)) # sum of each row, i.e. operation applied across the direction along the columns"
   ]
  },
  {
   "cell_type": "code",
   "execution_count": 17,
   "metadata": {
    "id": "3QwwRzmQL9J7"
   },
   "outputs": [
    {
     "name": "stdout",
     "output_type": "stream",
     "text": [
      "concat [[1 1]\n",
      " [0 1]\n",
      " [2 0]\n",
      " [3 4]]\n",
      "concat shape (4, 2)\n",
      "stack [[[ 1.02662867  0.58834094 -0.78392774 -0.07705042]\n",
      "  [-1.62968761  0.64485331  0.09004603 -0.67053461]\n",
      "  [ 0.78477075  0.24791341  0.42043422 -0.45950193]]\n",
      "\n",
      " [[ 1.02662867  0.58834094  0.78392774  0.07705042]\n",
      "  [ 1.62968761  0.64485331  0.09004603  0.67053461]\n",
      "  [ 0.78477075  0.24791341  0.42043422  0.45950193]]]\n"
     ]
    }
   ],
   "source": [
    "print(\"concat\", np.concatenate((A, B), axis=0)) # concatenate along rows\n",
    "print(\"concat shape\", np.concatenate((A, B), axis=0).shape)\n",
    "\n",
    "q1 = np.empty((3, 4)) # creates a (3,4) array from values in memory\n",
    "q2 = np.empty((3, 4))\n",
    "print(\"stack\", np.stack((q1, q2))) # stack two arrays of the same shape to create a (2, 3, 4) array"
   ]
  },
  {
   "cell_type": "code",
   "execution_count": 18,
   "metadata": {
    "id": "MRoZQXvhL-dq"
   },
   "outputs": [
    {
     "name": "stdout",
     "output_type": "stream",
     "text": [
      "exponential applied to each element [1.         2.71828183 7.3890561 ]\n"
     ]
    }
   ],
   "source": [
    "B = np.arange(3)\n",
    "print(\"exponential applied to each element\", np.exp(B)) # exponential function applied to each"
   ]
  },
  {
   "cell_type": "markdown",
   "metadata": {
    "id": "5fUCkBKDMBbS"
   },
   "source": [
    "In NumPy, a one-dimensional array is interpreted as just that—an array with a single dimension. In other words, there's no notion of row or column arrays."
   ]
  },
  {
   "cell_type": "code",
   "execution_count": 19,
   "metadata": {
    "id": "jgRXYi3kL_q8"
   },
   "outputs": [
    {
     "name": "stdout",
     "output_type": "stream",
     "text": [
      "[1 2 3]\n",
      "(3,)\n",
      "[[1 2 3]]\n",
      "(1, 3)\n"
     ]
    }
   ],
   "source": [
    "a = np.array((1,2,3))\n",
    "print(a.T)\n",
    "print(a.shape)\n",
    "b = a[np.newaxis, :] # creates a new axis, with the original data along the second one (row vector)\n",
    "print(b)\n",
    "print(b.shape)"
   ]
  }
 ],
 "metadata": {
  "colab": {
   "provenance": []
  },
  "kernelspec": {
   "display_name": "Python 3 (ipykernel)",
   "language": "python",
   "name": "python3"
  },
  "language_info": {
   "codemirror_mode": {
    "name": "ipython",
    "version": 3
   },
   "file_extension": ".py",
   "mimetype": "text/x-python",
   "name": "python",
   "nbconvert_exporter": "python",
   "pygments_lexer": "ipython3",
   "version": "3.8.12"
  }
 },
 "nbformat": 4,
 "nbformat_minor": 1
}
